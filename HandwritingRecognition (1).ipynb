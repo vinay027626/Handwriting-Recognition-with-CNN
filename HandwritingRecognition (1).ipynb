{
  "nbformat": 4,
  "nbformat_minor": 0,
  "metadata": {
    "colab": {
      "name": "HandwritingRecognition.ipynb",
      "provenance": [],
      "collapsed_sections": []
    },
    "kernelspec": {
      "name": "python3",
      "display_name": "Python 3"
    },
    "language_info": {
      "name": "python"
    },
    "accelerator": "GPU"
  },
  "cells": [
    {
      "cell_type": "code",
      "execution_count": 1,
      "metadata": {
        "id": "6OZWmo3RP1M4"
      },
      "outputs": [],
      "source": [
        "import numpy as np\n",
        "from keras.datasets import mnist\n",
        "import matplotlib.pyplot as plt\n",
        "%matplotlib inline\n",
        "import tensorflow as tf\n",
        "from keras.preprocessing.image import ImageDataGenerator"
      ]
    },
    {
      "cell_type": "code",
      "source": [
        "\n",
        "(trainX, trainy),(testX,testy) = mnist.load_data()\n",
        "\n",
        "print('Train: X = {}, y = {}'.format(trainX.shape, trainy.shape)) \n",
        "print('Test: X = {}, y = {}'.format(testX.shape, testy.shape))"
      ],
      "metadata": {
        "colab": {
          "base_uri": "https://localhost:8080/"
        },
        "id": "wgPSU2LZROID",
        "outputId": "e59230ea-5b3d-4218-f3e7-b18d9d3d6469"
      },
      "execution_count": 2,
      "outputs": [
        {
          "output_type": "stream",
          "name": "stdout",
          "text": [
            "Downloading data from https://storage.googleapis.com/tensorflow/tf-keras-datasets/mnist.npz\n",
            "11493376/11490434 [==============================] - 0s 0us/step\n",
            "11501568/11490434 [==============================] - 0s 0us/step\n",
            "Train: X = (60000, 28, 28), y = (60000,)\n",
            "Test: X = (10000, 28, 28), y = (10000,)\n"
          ]
        }
      ]
    },
    {
      "cell_type": "code",
      "source": [
        "print(trainX[0])"
      ],
      "metadata": {
        "colab": {
          "base_uri": "https://localhost:8080/"
        },
        "id": "tJW89VhnSBuM",
        "outputId": "5d5768cd-98a5-4ea4-dc25-73727e725fe5"
      },
      "execution_count": 3,
      "outputs": [
        {
          "output_type": "stream",
          "name": "stdout",
          "text": [
            "[[  0   0   0   0   0   0   0   0   0   0   0   0   0   0   0   0   0   0\n",
            "    0   0   0   0   0   0   0   0   0   0]\n",
            " [  0   0   0   0   0   0   0   0   0   0   0   0   0   0   0   0   0   0\n",
            "    0   0   0   0   0   0   0   0   0   0]\n",
            " [  0   0   0   0   0   0   0   0   0   0   0   0   0   0   0   0   0   0\n",
            "    0   0   0   0   0   0   0   0   0   0]\n",
            " [  0   0   0   0   0   0   0   0   0   0   0   0   0   0   0   0   0   0\n",
            "    0   0   0   0   0   0   0   0   0   0]\n",
            " [  0   0   0   0   0   0   0   0   0   0   0   0   0   0   0   0   0   0\n",
            "    0   0   0   0   0   0   0   0   0   0]\n",
            " [  0   0   0   0   0   0   0   0   0   0   0   0   3  18  18  18 126 136\n",
            "  175  26 166 255 247 127   0   0   0   0]\n",
            " [  0   0   0   0   0   0   0   0  30  36  94 154 170 253 253 253 253 253\n",
            "  225 172 253 242 195  64   0   0   0   0]\n",
            " [  0   0   0   0   0   0   0  49 238 253 253 253 253 253 253 253 253 251\n",
            "   93  82  82  56  39   0   0   0   0   0]\n",
            " [  0   0   0   0   0   0   0  18 219 253 253 253 253 253 198 182 247 241\n",
            "    0   0   0   0   0   0   0   0   0   0]\n",
            " [  0   0   0   0   0   0   0   0  80 156 107 253 253 205  11   0  43 154\n",
            "    0   0   0   0   0   0   0   0   0   0]\n",
            " [  0   0   0   0   0   0   0   0   0  14   1 154 253  90   0   0   0   0\n",
            "    0   0   0   0   0   0   0   0   0   0]\n",
            " [  0   0   0   0   0   0   0   0   0   0   0 139 253 190   2   0   0   0\n",
            "    0   0   0   0   0   0   0   0   0   0]\n",
            " [  0   0   0   0   0   0   0   0   0   0   0  11 190 253  70   0   0   0\n",
            "    0   0   0   0   0   0   0   0   0   0]\n",
            " [  0   0   0   0   0   0   0   0   0   0   0   0  35 241 225 160 108   1\n",
            "    0   0   0   0   0   0   0   0   0   0]\n",
            " [  0   0   0   0   0   0   0   0   0   0   0   0   0  81 240 253 253 119\n",
            "   25   0   0   0   0   0   0   0   0   0]\n",
            " [  0   0   0   0   0   0   0   0   0   0   0   0   0   0  45 186 253 253\n",
            "  150  27   0   0   0   0   0   0   0   0]\n",
            " [  0   0   0   0   0   0   0   0   0   0   0   0   0   0   0  16  93 252\n",
            "  253 187   0   0   0   0   0   0   0   0]\n",
            " [  0   0   0   0   0   0   0   0   0   0   0   0   0   0   0   0   0 249\n",
            "  253 249  64   0   0   0   0   0   0   0]\n",
            " [  0   0   0   0   0   0   0   0   0   0   0   0   0   0  46 130 183 253\n",
            "  253 207   2   0   0   0   0   0   0   0]\n",
            " [  0   0   0   0   0   0   0   0   0   0   0   0  39 148 229 253 253 253\n",
            "  250 182   0   0   0   0   0   0   0   0]\n",
            " [  0   0   0   0   0   0   0   0   0   0  24 114 221 253 253 253 253 201\n",
            "   78   0   0   0   0   0   0   0   0   0]\n",
            " [  0   0   0   0   0   0   0   0  23  66 213 253 253 253 253 198  81   2\n",
            "    0   0   0   0   0   0   0   0   0   0]\n",
            " [  0   0   0   0   0   0  18 171 219 253 253 253 253 195  80   9   0   0\n",
            "    0   0   0   0   0   0   0   0   0   0]\n",
            " [  0   0   0   0  55 172 226 253 253 253 253 244 133  11   0   0   0   0\n",
            "    0   0   0   0   0   0   0   0   0   0]\n",
            " [  0   0   0   0 136 253 253 253 212 135 132  16   0   0   0   0   0   0\n",
            "    0   0   0   0   0   0   0   0   0   0]\n",
            " [  0   0   0   0   0   0   0   0   0   0   0   0   0   0   0   0   0   0\n",
            "    0   0   0   0   0   0   0   0   0   0]\n",
            " [  0   0   0   0   0   0   0   0   0   0   0   0   0   0   0   0   0   0\n",
            "    0   0   0   0   0   0   0   0   0   0]\n",
            " [  0   0   0   0   0   0   0   0   0   0   0   0   0   0   0   0   0   0\n",
            "    0   0   0   0   0   0   0   0   0   0]]\n"
          ]
        }
      ]
    },
    {
      "cell_type": "code",
      "source": [
        "img_shape= trainX.shape[1:]\n",
        "img_shape"
      ],
      "metadata": {
        "colab": {
          "base_uri": "https://localhost:8080/"
        },
        "id": "YOM85-61SJev",
        "outputId": "f95ffe4c-def8-4411-d199-7669a5b45958"
      },
      "execution_count": 4,
      "outputs": [
        {
          "output_type": "execute_result",
          "data": {
            "text/plain": [
              "(28, 28)"
            ]
          },
          "metadata": {},
          "execution_count": 4
        }
      ]
    },
    {
      "cell_type": "code",
      "source": [
        "trainX = trainX.astype('float32')/255.0\n",
        "testX = testX.astype('float32')/255.0"
      ],
      "metadata": {
        "id": "pnXZtfsZSP3B"
      },
      "execution_count": 5,
      "outputs": []
    },
    {
      "cell_type": "code",
      "source": [
        "plt.figure(figsize= (8,10))\n",
        "for i in range(11):\n",
        "\tplt.subplot(4,4,i+1)\n",
        "\tplt.imshow(trainX[i], cmap='gray')\n",
        "\tplt.title(trainy[i])\n",
        "plt.show()"
      ],
      "metadata": {
        "colab": {
          "base_uri": "https://localhost:8080/",
          "height": 445
        },
        "id": "MQVWAg56SUMP",
        "outputId": "5f95f9d8-e591-4e4a-eaf6-1cc20b685438"
      },
      "execution_count": 6,
      "outputs": [
        {
          "output_type": "display_data",
          "data": {
            "image/png": "[encoded data removed]",
            "text/plain": [
              "<Figure size 576x720 with 11 Axes>"
            ]
          },
          "metadata": {
            "needs_background": "light"
          }
        }
      ]
    },
    {
      "cell_type": "code",
      "source": [
        "model = tf.keras.Sequential()\n",
        "model.add(tf.keras.layers.Conv2D(filters=32, kernel_size=3, activation='relu', input_shape = (28,28,1)))\n",
        "model.add(tf.keras.layers.MaxPool2D((2,2)))\n",
        "\n",
        "model.add(tf.keras.layers.Conv2D(filters= 48,kernel_size=3, activation = 'relu'))\n",
        "model.add(tf.keras.layers.MaxPool2D((2,2)))\n",
        "\n",
        "model.add(tf.keras.layers.Dropout(0.5))\n",
        "\n",
        "model.add(tf.keras.layers.Flatten())\n",
        "\n",
        "model.add(tf.keras.layers.Dense(units = 500,activation= 'relu'))\n",
        "\n",
        "model.add(tf.keras.layers.Dense(units = 10,activation= 'softmax'))"
      ],
      "metadata": {
        "id": "tkIUpa1ASYMP"
      },
      "execution_count": 7,
      "outputs": []
    },
    {
      "cell_type": "code",
      "source": [
        "model.summary()"
      ],
      "metadata": {
        "colab": {
          "base_uri": "https://localhost:8080/"
        },
        "id": "UANI9KVZS3yB",
        "outputId": "feda1977-df84-48f1-d91a-78fac07de2ec"
      },
      "execution_count": 8,
      "outputs": [
        {
          "output_type": "stream",
          "name": "stdout",
          "text": [
            "Model: \"sequential\"\n",
            "_________________________________________________________________\n",
            " Layer (type)                Output Shape              Param #   \n",
            "=================================================================\n",
            " conv2d (Conv2D)             (None, 26, 26, 32)        320       \n",
            "                                                                 \n",
            " max_pooling2d (MaxPooling2D  (None, 13, 13, 32)       0         \n",
            " )                                                               \n",
            "                                                                 \n",
            " conv2d_1 (Conv2D)           (None, 11, 11, 48)        13872     \n",
            "                                                                 \n",
            " max_pooling2d_1 (MaxPooling  (None, 5, 5, 48)         0         \n",
            " 2D)                                                             \n",
            "                                                                 \n",
            " dropout (Dropout)           (None, 5, 5, 48)          0         \n",
            "                                                                 \n",
            " flatten (Flatten)           (None, 1200)              0         \n",
            "                                                                 \n",
            " dense (Dense)               (None, 500)               600500    \n",
            "                                                                 \n",
            " dense_1 (Dense)             (None, 10)                5010      \n",
            "                                                                 \n",
            "=================================================================\n",
            "Total params: 619,702\n",
            "Trainable params: 619,702\n",
            "Non-trainable params: 0\n",
            "_________________________________________________________________\n"
          ]
        }
      ]
    },
    {
      "cell_type": "code",
      "source": [
        "model.compile(optimizer='adam',loss='sparse_categorical_crossentropy',metrics=['accuracy'])"
      ],
      "metadata": {
        "id": "vy7WJl84S6Tf"
      },
      "execution_count": 9,
      "outputs": []
    },
    {
      "cell_type": "code",
      "source": [
        "x =  model.fit(trainX, trainy, epochs= 10, batch_size=128, verbose=2,validation_split=0.1)\n",
        "# model.fit(trainX,validation_data= testy, epochs=25)"
      ],
      "metadata": {
        "colab": {
          "base_uri": "https://localhost:8080/"
        },
        "id": "9vpjrFLtcC-p",
        "outputId": "8dabc026-17f0-441c-f79a-50625fdeb1d6"
      },
      "execution_count": 10,
      "outputs": [
        {
          "output_type": "stream",
          "name": "stdout",
          "text": [
            "Epoch 1/10\n",
            "422/422 - 15s - loss: 0.2426 - accuracy: 0.9257 - val_loss: 0.0567 - val_accuracy: 0.9823 - 15s/epoch - 35ms/step\n",
            "Epoch 2/10\n",
            "422/422 - 3s - loss: 0.0820 - accuracy: 0.9746 - val_loss: 0.0460 - val_accuracy: 0.9863 - 3s/epoch - 7ms/step\n",
            "Epoch 3/10\n",
            "422/422 - 3s - loss: 0.0605 - accuracy: 0.9813 - val_loss: 0.0332 - val_accuracy: 0.9907 - 3s/epoch - 7ms/step\n",
            "Epoch 4/10\n",
            "422/422 - 3s - loss: 0.0490 - accuracy: 0.9842 - val_loss: 0.0279 - val_accuracy: 0.9923 - 3s/epoch - 7ms/step\n",
            "Epoch 5/10\n",
            "422/422 - 3s - loss: 0.0414 - accuracy: 0.9865 - val_loss: 0.0282 - val_accuracy: 0.9913 - 3s/epoch - 7ms/step\n",
            "Epoch 6/10\n",
            "422/422 - 3s - loss: 0.0359 - accuracy: 0.9888 - val_loss: 0.0289 - val_accuracy: 0.9923 - 3s/epoch - 7ms/step\n",
            "Epoch 7/10\n",
            "422/422 - 3s - loss: 0.0320 - accuracy: 0.9896 - val_loss: 0.0290 - val_accuracy: 0.9925 - 3s/epoch - 7ms/step\n",
            "Epoch 8/10\n",
            "422/422 - 3s - loss: 0.0283 - accuracy: 0.9903 - val_loss: 0.0296 - val_accuracy: 0.9922 - 3s/epoch - 7ms/step\n",
            "Epoch 9/10\n",
            "422/422 - 3s - loss: 0.0265 - accuracy: 0.9912 - val_loss: 0.0295 - val_accuracy: 0.9925 - 3s/epoch - 7ms/step\n",
            "Epoch 10/10\n",
            "422/422 - 3s - loss: 0.0239 - accuracy: 0.9921 - val_loss: 0.0271 - val_accuracy: 0.9928 - 3s/epoch - 7ms/step\n"
          ]
        }
      ]
    },
    {
      "cell_type": "code",
      "source": [
        "def define_model():  \n",
        "  model = tf.keras.Sequential()\n",
        "  model.add(tf.keras.layers.Conv2D(filters=32, kernel_size=3, activation='relu', input_shape = (28,28,1)))\n",
        "  model.add(tf.keras.layers.MaxPool2D((2,2)))\n",
        "\n",
        "  model.add(tf.keras.layers.Conv2D(filters= 48,kernel_size=3, activation = 'relu'))\n",
        "  model.add(tf.keras.layers.MaxPool2D((2,2)))\n",
        "\n",
        "  model.add(tf.keras.layers.Dropout(0.5))\n",
        "\n",
        "  model.add(tf.keras.layers.Flatten())\n",
        "\n",
        "  model.add(tf.keras.layers.Dense(units = 500,activation= 'relu'))\n",
        "\n",
        "  model.add(tf.keras.layers.Dense(units = 10,activation= 'softmax'))\n",
        "  model.compile(optimizer='adam',loss='sparse_categorical_crossentropy',metrics=['accuracy'])\n",
        "\n",
        "  return model"
      ],
      "metadata": {
        "id": "y4MrFwzwDJG4"
      },
      "execution_count": 11,
      "outputs": []
    },
    {
      "cell_type": "code",
      "source": [
        "from sklearn.model_selection import KFold\n",
        "\n",
        "\n",
        "def eval_data(x , y , n_k=5):\n",
        "  score =[]\n",
        "  hist = []\n",
        "\n",
        "  kf = KFold(n_splits=n_k,shuffle = True, random_state=1)\n",
        "\n",
        "  for train_kx, test_kx in kf.split(x):\n",
        "    model = define_model()\n",
        "    trainX, trainY, testX, testY = x[train_kx],y[train_kx],x[test_kx],y[test_kx]\n",
        "    history = model.fit(trainX, trainY, epochs=10, batch_size=32, validation_data=(testX, testY), verbose=2)\n",
        "\t\t# evaluate model\n",
        "    acc = model.evaluate(testX, testY, verbose=2)\n",
        "    acc = np.array(acc)\n",
        "    print('Accuracy is %.3f' % (acc.max() * 100))\n",
        "\t\t\n",
        "    score.append(acc)\n",
        "    hist.append(history)"
      ],
      "metadata": {
        "id": "O0o_Ek3aDM_2"
      },
      "execution_count": 12,
      "outputs": []
    },
    {
      "cell_type": "code",
      "source": [
        "eval_data(trainX,trainy,5)"
      ],
      "metadata": {
        "colab": {
          "base_uri": "https://localhost:8080/"
        },
        "id": "dKpT9sScDPAo",
        "outputId": "6424a828-a39d-40ab-d96d-29c13c9acb57"
      },
      "execution_count": 13,
      "outputs": [
        {
          "output_type": "stream",
          "name": "stdout",
          "text": [
            "Epoch 1/10\n",
            "1500/1500 - 7s - loss: 0.1753 - accuracy: 0.9464 - val_loss: 0.0565 - val_accuracy: 0.9836 - 7s/epoch - 5ms/step\n",
            "Epoch 2/10\n",
            "1500/1500 - 8s - loss: 0.0679 - accuracy: 0.9786 - val_loss: 0.0464 - val_accuracy: 0.9859 - 8s/epoch - 5ms/step\n",
            "Epoch 3/10\n",
            "1500/1500 - 7s - loss: 0.0489 - accuracy: 0.9842 - val_loss: 0.0415 - val_accuracy: 0.9880 - 7s/epoch - 5ms/step\n",
            "Epoch 4/10\n",
            "1500/1500 - 7s - loss: 0.0428 - accuracy: 0.9872 - val_loss: 0.0396 - val_accuracy: 0.9887 - 7s/epoch - 5ms/step\n",
            "Epoch 5/10\n",
            "1500/1500 - 7s - loss: 0.0365 - accuracy: 0.9881 - val_loss: 0.0374 - val_accuracy: 0.9887 - 7s/epoch - 5ms/step\n",
            "Epoch 6/10\n",
            "1500/1500 - 7s - loss: 0.0325 - accuracy: 0.9901 - val_loss: 0.0322 - val_accuracy: 0.9913 - 7s/epoch - 5ms/step\n",
            "Epoch 7/10\n",
            "1500/1500 - 7s - loss: 0.0280 - accuracy: 0.9905 - val_loss: 0.0367 - val_accuracy: 0.9902 - 7s/epoch - 4ms/step\n",
            "Epoch 8/10\n",
            "1500/1500 - 7s - loss: 0.0253 - accuracy: 0.9915 - val_loss: 0.0294 - val_accuracy: 0.9916 - 7s/epoch - 4ms/step\n",
            "Epoch 9/10\n",
            "1500/1500 - 6s - loss: 0.0234 - accuracy: 0.9930 - val_loss: 0.0340 - val_accuracy: 0.9908 - 6s/epoch - 4ms/step\n",
            "Epoch 10/10\n",
            "1500/1500 - 7s - loss: 0.0215 - accuracy: 0.9930 - val_loss: 0.0314 - val_accuracy: 0.9916 - 7s/epoch - 4ms/step\n",
            "375/375 - 1s - loss: 0.0314 - accuracy: 0.9916 - 786ms/epoch - 2ms/step\n",
            "Accuracy is 99.158\n",
            "Epoch 1/10\n",
            "1500/1500 - 8s - loss: 0.1780 - accuracy: 0.9448 - val_loss: 0.0591 - val_accuracy: 0.9818 - 8s/epoch - 5ms/step\n",
            "Epoch 2/10\n",
            "1500/1500 - 8s - loss: 0.0698 - accuracy: 0.9781 - val_loss: 0.0455 - val_accuracy: 0.9866 - 8s/epoch - 5ms/step\n",
            "Epoch 3/10\n",
            "1500/1500 - 8s - loss: 0.0539 - accuracy: 0.9824 - val_loss: 0.0398 - val_accuracy: 0.9878 - 8s/epoch - 5ms/step\n",
            "Epoch 4/10\n",
            "1500/1500 - 8s - loss: 0.0457 - accuracy: 0.9853 - val_loss: 0.0297 - val_accuracy: 0.9911 - 8s/epoch - 5ms/step\n",
            "Epoch 5/10\n",
            "1500/1500 - 7s - loss: 0.0376 - accuracy: 0.9882 - val_loss: 0.0378 - val_accuracy: 0.9892 - 7s/epoch - 5ms/step\n",
            "Epoch 6/10\n",
            "1500/1500 - 8s - loss: 0.0337 - accuracy: 0.9889 - val_loss: 0.0311 - val_accuracy: 0.9899 - 8s/epoch - 5ms/step\n",
            "Epoch 7/10\n",
            "1500/1500 - 8s - loss: 0.0288 - accuracy: 0.9904 - val_loss: 0.0297 - val_accuracy: 0.9908 - 8s/epoch - 5ms/step\n",
            "Epoch 8/10\n",
            "1500/1500 - 7s - loss: 0.0266 - accuracy: 0.9916 - val_loss: 0.0264 - val_accuracy: 0.9919 - 7s/epoch - 5ms/step\n",
            "Epoch 9/10\n",
            "1500/1500 - 8s - loss: 0.0233 - accuracy: 0.9926 - val_loss: 0.0267 - val_accuracy: 0.9921 - 8s/epoch - 5ms/step\n",
            "Epoch 10/10\n",
            "1500/1500 - 8s - loss: 0.0230 - accuracy: 0.9927 - val_loss: 0.0276 - val_accuracy: 0.9923 - 8s/epoch - 5ms/step\n",
            "375/375 - 1s - loss: 0.0276 - accuracy: 0.9923 - 826ms/epoch - 2ms/step\n",
            "Accuracy is 99.225\n",
            "Epoch 1/10\n",
            "1500/1500 - 8s - loss: 0.1764 - accuracy: 0.9453 - val_loss: 0.0572 - val_accuracy: 0.9817 - 8s/epoch - 6ms/step\n",
            "Epoch 2/10\n",
            "1500/1500 - 7s - loss: 0.0702 - accuracy: 0.9779 - val_loss: 0.0420 - val_accuracy: 0.9868 - 7s/epoch - 5ms/step\n",
            "Epoch 3/10\n",
            "1500/1500 - 7s - loss: 0.0530 - accuracy: 0.9827 - val_loss: 0.0434 - val_accuracy: 0.9872 - 7s/epoch - 5ms/step\n",
            "Epoch 4/10\n",
            "1500/1500 - 8s - loss: 0.0451 - accuracy: 0.9859 - val_loss: 0.0368 - val_accuracy: 0.9884 - 8s/epoch - 5ms/step\n",
            "Epoch 5/10\n",
            "1500/1500 - 7s - loss: 0.0367 - accuracy: 0.9883 - val_loss: 0.0366 - val_accuracy: 0.9894 - 7s/epoch - 5ms/step\n",
            "Epoch 6/10\n",
            "1500/1500 - 8s - loss: 0.0340 - accuracy: 0.9891 - val_loss: 0.0346 - val_accuracy: 0.9912 - 8s/epoch - 5ms/step\n",
            "Epoch 7/10\n",
            "1500/1500 - 7s - loss: 0.0286 - accuracy: 0.9907 - val_loss: 0.0321 - val_accuracy: 0.9915 - 7s/epoch - 5ms/step\n",
            "Epoch 8/10\n",
            "1500/1500 - 7s - loss: 0.0248 - accuracy: 0.9920 - val_loss: 0.0334 - val_accuracy: 0.9915 - 7s/epoch - 5ms/step\n",
            "Epoch 9/10\n",
            "1500/1500 - 8s - loss: 0.0248 - accuracy: 0.9920 - val_loss: 0.0299 - val_accuracy: 0.9923 - 8s/epoch - 5ms/step\n",
            "Epoch 10/10\n",
            "1500/1500 - 8s - loss: 0.0224 - accuracy: 0.9924 - val_loss: 0.0308 - val_accuracy: 0.9923 - 8s/epoch - 5ms/step\n",
            "375/375 - 1s - loss: 0.0308 - accuracy: 0.9923 - 820ms/epoch - 2ms/step\n",
            "Accuracy is 99.225\n",
            "Epoch 1/10\n",
            "1500/1500 - 8s - loss: 0.1835 - accuracy: 0.9423 - val_loss: 0.0557 - val_accuracy: 0.9808 - 8s/epoch - 5ms/step\n",
            "Epoch 2/10\n",
            "1500/1500 - 7s - loss: 0.0707 - accuracy: 0.9783 - val_loss: 0.0488 - val_accuracy: 0.9838 - 7s/epoch - 5ms/step\n",
            "Epoch 3/10\n",
            "1500/1500 - 8s - loss: 0.0520 - accuracy: 0.9836 - val_loss: 0.0287 - val_accuracy: 0.9911 - 8s/epoch - 5ms/step\n",
            "Epoch 4/10\n",
            "1500/1500 - 8s - loss: 0.0455 - accuracy: 0.9854 - val_loss: 0.0301 - val_accuracy: 0.9910 - 8s/epoch - 5ms/step\n",
            "Epoch 5/10\n",
            "1500/1500 - 8s - loss: 0.0368 - accuracy: 0.9880 - val_loss: 0.0277 - val_accuracy: 0.9910 - 8s/epoch - 5ms/step\n",
            "Epoch 6/10\n",
            "1500/1500 - 7s - loss: 0.0334 - accuracy: 0.9898 - val_loss: 0.0262 - val_accuracy: 0.9918 - 7s/epoch - 5ms/step\n",
            "Epoch 7/10\n",
            "1500/1500 - 8s - loss: 0.0307 - accuracy: 0.9899 - val_loss: 0.0242 - val_accuracy: 0.9925 - 8s/epoch - 5ms/step\n",
            "Epoch 8/10\n",
            "1500/1500 - 7s - loss: 0.0253 - accuracy: 0.9918 - val_loss: 0.0266 - val_accuracy: 0.9917 - 7s/epoch - 5ms/step\n",
            "Epoch 9/10\n",
            "1500/1500 - 7s - loss: 0.0251 - accuracy: 0.9917 - val_loss: 0.0225 - val_accuracy: 0.9933 - 7s/epoch - 5ms/step\n",
            "Epoch 10/10\n",
            "1500/1500 - 8s - loss: 0.0215 - accuracy: 0.9929 - val_loss: 0.0243 - val_accuracy: 0.9933 - 8s/epoch - 5ms/step\n",
            "375/375 - 1s - loss: 0.0243 - accuracy: 0.9933 - 895ms/epoch - 2ms/step\n",
            "Accuracy is 99.333\n",
            "Epoch 1/10\n",
            "1500/1500 - 9s - loss: 0.1847 - accuracy: 0.9423 - val_loss: 0.0655 - val_accuracy: 0.9790 - 9s/epoch - 6ms/step\n",
            "Epoch 2/10\n",
            "1500/1500 - 8s - loss: 0.0718 - accuracy: 0.9768 - val_loss: 0.0384 - val_accuracy: 0.9885 - 8s/epoch - 5ms/step\n",
            "Epoch 3/10\n",
            "1500/1500 - 7s - loss: 0.0544 - accuracy: 0.9828 - val_loss: 0.0353 - val_accuracy: 0.9891 - 7s/epoch - 5ms/step\n",
            "Epoch 4/10\n",
            "1500/1500 - 7s - loss: 0.0467 - accuracy: 0.9853 - val_loss: 0.0337 - val_accuracy: 0.9897 - 7s/epoch - 5ms/step\n",
            "Epoch 5/10\n",
            "1500/1500 - 7s - loss: 0.0382 - accuracy: 0.9880 - val_loss: 0.0391 - val_accuracy: 0.9879 - 7s/epoch - 5ms/step\n",
            "Epoch 6/10\n",
            "1500/1500 - 7s - loss: 0.0323 - accuracy: 0.9899 - val_loss: 0.0341 - val_accuracy: 0.9898 - 7s/epoch - 5ms/step\n",
            "Epoch 7/10\n",
            "1500/1500 - 7s - loss: 0.0298 - accuracy: 0.9904 - val_loss: 0.0314 - val_accuracy: 0.9904 - 7s/epoch - 5ms/step\n",
            "Epoch 8/10\n",
            "1500/1500 - 7s - loss: 0.0273 - accuracy: 0.9911 - val_loss: 0.0285 - val_accuracy: 0.9915 - 7s/epoch - 5ms/step\n",
            "Epoch 9/10\n",
            "1500/1500 - 7s - loss: 0.0249 - accuracy: 0.9922 - val_loss: 0.0310 - val_accuracy: 0.9914 - 7s/epoch - 5ms/step\n",
            "Epoch 10/10\n",
            "1500/1500 - 7s - loss: 0.0234 - accuracy: 0.9929 - val_loss: 0.0395 - val_accuracy: 0.9905 - 7s/epoch - 5ms/step\n",
            "375/375 - 1s - loss: 0.0395 - accuracy: 0.9905 - 828ms/epoch - 2ms/step\n",
            "Accuracy is 99.050\n"
          ]
        }
      ]
    },
    {
      "cell_type": "code",
      "source": [
        "loss , accuracy = model.evaluate(testX, testy)"
      ],
      "metadata": {
        "id": "gMl7PNgHcz8n",
        "colab": {
          "base_uri": "https://localhost:8080/"
        },
        "outputId": "188ab6ce-a114-4258-99ae-6c5911327364"
      },
      "execution_count": 14,
      "outputs": [
        {
          "output_type": "stream",
          "name": "stdout",
          "text": [
            "313/313 [==============================] - 1s 4ms/step - loss: 0.0217 - accuracy: 0.9931\n"
          ]
        }
      ]
    },
    {
      "cell_type": "code",
      "source": [
        "nums=[]\n",
        "for i in range(0,5):\n",
        "  x = np.random.randint(0,len(testX))\n",
        "  nums.append(x)\n",
        "\n",
        "for num in nums:  \n",
        "  plt.imshow(testX[num])\n",
        "  pred= model.predict(testX)\n",
        "  plt.show()\n",
        "  print(\"Model Prediction is:\",np.argmax(pred[num]))\n",
        "  print()\n",
        "  print('#'*40)"
      ],
      "metadata": {
        "id": "XX1w1Z3Ic0nr",
        "colab": {
          "base_uri": "https://localhost:8080/",
          "height": 1000
        },
        "outputId": "abd185ac-5069-46ce-a683-da4a989afba1"
      },
      "execution_count": 15,
      "outputs": [
        {
          "output_type": "display_data",
          "data": {
            "image/png": "[encoded data removed]",
            "text/plain": [
              "<Figure size 432x288 with 1 Axes>"
            ]
          },
          "metadata": {
            "needs_background": "light"
          }
        },
        {
          "output_type": "stream",
          "name": "stdout",
          "text": [
            "Model Prediction is: 9\n",
            "\n",
            "########################################\n"
          ]
        },
        {
          "output_type": "display_data",
          "data": {
            "image/png": "[encoded data removed]",
            "text/plain": [
              "<Figure size 432x288 with 1 Axes>"
            ]
          },
          "metadata": {
            "needs_background": "light"
          }
        },
        {
          "output_type": "stream",
          "name": "stdout",
          "text": [
            "Model Prediction is: 0\n",
            "\n",
            "########################################\n"
          ]
        },
        {
          "output_type": "display_data",
          "data": {
            "image/png": "[encoded data removed]",
            "text/plain": [
              "<Figure size 432x288 with 1 Axes>"
            ]
          },
          "metadata": {
            "needs_background": "light"
          }
        },
        {
          "output_type": "stream",
          "name": "stdout",
          "text": [
            "Model Prediction is: 3\n",
            "\n",
            "########################################\n"
          ]
        },
        {
          "output_type": "display_data",
          "data": {
            "image/png": "[encoded data removed]",
            "text/plain": [
              "<Figure size 432x288 with 1 Axes>"
            ]
          },
          "metadata": {
            "needs_background": "light"
          }
        },
        {
          "output_type": "stream",
          "name": "stdout",
          "text": [
            "Model Prediction is: 4\n",
            "\n",
            "########################################\n"
          ]
        },
        {
          "output_type": "display_data",
          "data": {
            "image/png": "[encoded data removed]",
            "text/plain": [
              "<Figure size 432x288 with 1 Axes>"
            ]
          },
          "metadata": {
            "needs_background": "light"
          }
        },
        {
          "output_type": "stream",
          "name": "stdout",
          "text": [
            "Model Prediction is: 3\n",
            "\n",
            "########################################\n"
          ]
        }
      ]
    }
  ]
}