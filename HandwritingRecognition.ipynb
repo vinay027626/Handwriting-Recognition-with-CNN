{
  "nbformat": 4,
  "nbformat_minor": 0,
  "metadata": {
    "colab": {
      "name": "HandwritingRecognition.ipynb",
      "provenance": []
    },
    "kernelspec": {
      "name": "python3",
      "display_name": "Python 3"
    },
    "language_info": {
      "name": "python"
    },
    "accelerator": "GPU"
  },
  "cells": [
    {
      "cell_type": "code",
      "execution_count": 1,
      "metadata": {
        "id": "6OZWmo3RP1M4"
      },
      "outputs": [],
      "source": [
        "import numpy as np\n",
        "from keras.datasets import mnist\n",
        "import matplotlib.pyplot as plt\n",
        "%matplotlib inline\n",
        "import tensorflow as tf\n",
        "from keras.preprocessing.image import ImageDataGenerator"
      ]
    },
    {
      "cell_type": "code",
      "source": [
        "\n",
        "(trainX, trainy),(testX,testy) = mnist.load_data()\n",
        "\n",
        "print('Train: X = {}, y = {}'.format(trainX.shape, trainy.shape)) \n",
        "print('Test: X = {}, y = {}'.format(testX.shape, testy.shape))"
      ],
      "metadata": {
        "colab": {
          "base_uri": "https://localhost:8080/"
        },
        "id": "wgPSU2LZROID",
        "outputId": "60ff86c1-88c9-4773-d65e-27d44c12d56d"
      },
      "execution_count": 2,
      "outputs": [
        {
          "output_type": "stream",
          "name": "stdout",
          "text": [
            "Train: X = (60000, 28, 28), y = (60000,)\n",
            "Test: X = (10000, 28, 28), y = (10000,)\n"
          ]
        }
      ]
    },
    {
      "cell_type": "code",
      "source": [
        "print(trainX[0])"
      ],
      "metadata": {
        "colab": {
          "base_uri": "https://localhost:8080/"
        },
        "id": "tJW89VhnSBuM",
        "outputId": "584b1e5d-1a1c-4347-870b-ce51bd76605c"
      },
      "execution_count": 3,
      "outputs": [
        {
          "output_type": "stream",
          "name": "stdout",
          "text": [
            "[[  0   0   0   0   0   0   0   0   0   0   0   0   0   0   0   0   0   0\n",
            "    0   0   0   0   0   0   0   0   0   0]\n",
            " [  0   0   0   0   0   0   0   0   0   0   0   0   0   0   0   0   0   0\n",
            "    0   0   0   0   0   0   0   0   0   0]\n",
            " [  0   0   0   0   0   0   0   0   0   0   0   0   0   0   0   0   0   0\n",
            "    0   0   0   0   0   0   0   0   0   0]\n",
            " [  0   0   0   0   0   0   0   0   0   0   0   0   0   0   0   0   0   0\n",
            "    0   0   0   0   0   0   0   0   0   0]\n",
            " [  0   0   0   0   0   0   0   0   0   0   0   0   0   0   0   0   0   0\n",
            "    0   0   0   0   0   0   0   0   0   0]\n",
            " [  0   0   0   0   0   0   0   0   0   0   0   0   3  18  18  18 126 136\n",
            "  175  26 166 255 247 127   0   0   0   0]\n",
            " [  0   0   0   0   0   0   0   0  30  36  94 154 170 253 253 253 253 253\n",
            "  225 172 253 242 195  64   0   0   0   0]\n",
            " [  0   0   0   0   0   0   0  49 238 253 253 253 253 253 253 253 253 251\n",
            "   93  82  82  56  39   0   0   0   0   0]\n",
            " [  0   0   0   0   0   0   0  18 219 253 253 253 253 253 198 182 247 241\n",
            "    0   0   0   0   0   0   0   0   0   0]\n",
            " [  0   0   0   0   0   0   0   0  80 156 107 253 253 205  11   0  43 154\n",
            "    0   0   0   0   0   0   0   0   0   0]\n",
            " [  0   0   0   0   0   0   0   0   0  14   1 154 253  90   0   0   0   0\n",
            "    0   0   0   0   0   0   0   0   0   0]\n",
            " [  0   0   0   0   0   0   0   0   0   0   0 139 253 190   2   0   0   0\n",
            "    0   0   0   0   0   0   0   0   0   0]\n",
            " [  0   0   0   0   0   0   0   0   0   0   0  11 190 253  70   0   0   0\n",
            "    0   0   0   0   0   0   0   0   0   0]\n",
            " [  0   0   0   0   0   0   0   0   0   0   0   0  35 241 225 160 108   1\n",
            "    0   0   0   0   0   0   0   0   0   0]\n",
            " [  0   0   0   0   0   0   0   0   0   0   0   0   0  81 240 253 253 119\n",
            "   25   0   0   0   0   0   0   0   0   0]\n",
            " [  0   0   0   0   0   0   0   0   0   0   0   0   0   0  45 186 253 253\n",
            "  150  27   0   0   0   0   0   0   0   0]\n",
            " [  0   0   0   0   0   0   0   0   0   0   0   0   0   0   0  16  93 252\n",
            "  253 187   0   0   0   0   0   0   0   0]\n",
            " [  0   0   0   0   0   0   0   0   0   0   0   0   0   0   0   0   0 249\n",
            "  253 249  64   0   0   0   0   0   0   0]\n",
            " [  0   0   0   0   0   0   0   0   0   0   0   0   0   0  46 130 183 253\n",
            "  253 207   2   0   0   0   0   0   0   0]\n",
            " [  0   0   0   0   0   0   0   0   0   0   0   0  39 148 229 253 253 253\n",
            "  250 182   0   0   0   0   0   0   0   0]\n",
            " [  0   0   0   0   0   0   0   0   0   0  24 114 221 253 253 253 253 201\n",
            "   78   0   0   0   0   0   0   0   0   0]\n",
            " [  0   0   0   0   0   0   0   0  23  66 213 253 253 253 253 198  81   2\n",
            "    0   0   0   0   0   0   0   0   0   0]\n",
            " [  0   0   0   0   0   0  18 171 219 253 253 253 253 195  80   9   0   0\n",
            "    0   0   0   0   0   0   0   0   0   0]\n",
            " [  0   0   0   0  55 172 226 253 253 253 253 244 133  11   0   0   0   0\n",
            "    0   0   0   0   0   0   0   0   0   0]\n",
            " [  0   0   0   0 136 253 253 253 212 135 132  16   0   0   0   0   0   0\n",
            "    0   0   0   0   0   0   0   0   0   0]\n",
            " [  0   0   0   0   0   0   0   0   0   0   0   0   0   0   0   0   0   0\n",
            "    0   0   0   0   0   0   0   0   0   0]\n",
            " [  0   0   0   0   0   0   0   0   0   0   0   0   0   0   0   0   0   0\n",
            "    0   0   0   0   0   0   0   0   0   0]\n",
            " [  0   0   0   0   0   0   0   0   0   0   0   0   0   0   0   0   0   0\n",
            "    0   0   0   0   0   0   0   0   0   0]]\n"
          ]
        }
      ]
    },
    {
      "cell_type": "code",
      "source": [
        "img_shape= trainX.shape[1:]\n",
        "img_shape"
      ],
      "metadata": {
        "colab": {
          "base_uri": "https://localhost:8080/"
        },
        "id": "YOM85-61SJev",
        "outputId": "bdb62e3d-b327-4b90-944f-cda83cd035e8"
      },
      "execution_count": 4,
      "outputs": [
        {
          "output_type": "execute_result",
          "data": {
            "text/plain": [
              "(28, 28)"
            ]
          },
          "metadata": {},
          "execution_count": 4
        }
      ]
    },
    {
      "cell_type": "code",
      "source": [
        "trainX = trainX.astype('float32')/255.0\n",
        "testX = testX.astype('float32')/255.0"
      ],
      "metadata": {
        "id": "pnXZtfsZSP3B"
      },
      "execution_count": 5,
      "outputs": []
    },
    {
      "cell_type": "code",
      "source": [
        "plt.figure(figsize= (8,10))\n",
        "for i in range(11):\n",
        "\tplt.subplot(4,4,i+1)\n",
        "\tplt.imshow(trainX[i], cmap='gray')\n",
        "\tplt.title(trainy[i])\n",
        "plt.show()"
      ],
      "metadata": {
        "colab": {
          "base_uri": "https://localhost:8080/",
          "height": 445
        },
        "id": "MQVWAg56SUMP",
        "outputId": "f97a8892-996b-43cf-a161-4e747a2042f9"
      },
      "execution_count": 6,
      "outputs": [
        {
          "output_type": "display_data",
          "data": {
            "image/png": "[encoded data removed]",
            "text/plain": [
              "<Figure size 576x720 with 11 Axes>"
            ]
          },
          "metadata": {
            "needs_background": "light"
          }
        }
      ]
    },
    {
      "cell_type": "code",
      "source": [
        "model = tf.keras.Sequential()\n",
        "model.add(tf.keras.layers.Conv2D(filters=32, kernel_size=3, activation='relu', input_shape = (28,28,1)))\n",
        "model.add(tf.keras.layers.MaxPool2D((2,2)))\n",
        "\n",
        "model.add(tf.keras.layers.Conv2D(filters= 48,kernel_size=3, activation = 'relu'))\n",
        "model.add(tf.keras.layers.MaxPool2D((2,2)))\n",
        "\n",
        "model.add(tf.keras.layers.Dropout(0.5))\n",
        "\n",
        "model.add(tf.keras.layers.Flatten())\n",
        "\n",
        "model.add(tf.keras.layers.Dense(units = 500,activation= 'relu'))\n",
        "\n",
        "model.add(tf.keras.layers.Dense(units = 10,activation= 'softmax'))"
      ],
      "metadata": {
        "id": "tkIUpa1ASYMP"
      },
      "execution_count": 7,
      "outputs": []
    },
    {
      "cell_type": "code",
      "source": [
        "model.summary()"
      ],
      "metadata": {
        "colab": {
          "base_uri": "https://localhost:8080/"
        },
        "id": "UANI9KVZS3yB",
        "outputId": "905a4606-6de8-411e-f418-e804b980ebca"
      },
      "execution_count": 8,
      "outputs": [
        {
          "output_type": "stream",
          "name": "stdout",
          "text": [
            "Model: \"sequential\"\n",
            "_________________________________________________________________\n",
            " Layer (type)                Output Shape              Param #   \n",
            "=================================================================\n",
            " conv2d (Conv2D)             (None, 26, 26, 32)        320       \n",
            "                                                                 \n",
            " max_pooling2d (MaxPooling2D  (None, 13, 13, 32)       0         \n",
            " )                                                               \n",
            "                                                                 \n",
            " conv2d_1 (Conv2D)           (None, 11, 11, 48)        13872     \n",
            "                                                                 \n",
            " max_pooling2d_1 (MaxPooling  (None, 5, 5, 48)         0         \n",
            " 2D)                                                             \n",
            "                                                                 \n",
            " dropout (Dropout)           (None, 5, 5, 48)          0         \n",
            "                                                                 \n",
            " flatten (Flatten)           (None, 1200)              0         \n",
            "                                                                 \n",
            " dense (Dense)               (None, 500)               600500    \n",
            "                                                                 \n",
            " dense_1 (Dense)             (None, 10)                5010      \n",
            "                                                                 \n",
            "=================================================================\n",
            "Total params: 619,702\n",
            "Trainable params: 619,702\n",
            "Non-trainable params: 0\n",
            "_________________________________________________________________\n"
          ]
        }
      ]
    },
    {
      "cell_type": "code",
      "source": [
        "model.compile(optimizer='adam',loss='sparse_categorical_crossentropy',metrics=['accuracy'])"
      ],
      "metadata": {
        "id": "vy7WJl84S6Tf"
      },
      "execution_count": 9,
      "outputs": []
    },
    {
      "cell_type": "code",
      "source": [
        "x =  model.fit(trainX, trainy, epochs= 10, batch_size=128, verbose=2,validation_split=0.1)\n",
        "# model.fit(trainX,validation_data= testy, epochs=25)"
      ],
      "metadata": {
        "colab": {
          "base_uri": "https://localhost:8080/"
        },
        "id": "9vpjrFLtcC-p",
        "outputId": "d0a62ecf-4425-4dbe-d3b9-6043e5e804ab"
      },
      "execution_count": 10,
      "outputs": [
        {
          "output_type": "stream",
          "name": "stdout",
          "text": [
            "Epoch 1/10\n",
            "422/422 - 7s - loss: 0.2486 - accuracy: 0.9229 - val_loss: 0.0566 - val_accuracy: 0.9842 - 7s/epoch - 17ms/step\n",
            "Epoch 2/10\n",
            "422/422 - 3s - loss: 0.0831 - accuracy: 0.9740 - val_loss: 0.0418 - val_accuracy: 0.9885 - 3s/epoch - 6ms/step\n",
            "Epoch 3/10\n",
            "422/422 - 2s - loss: 0.0612 - accuracy: 0.9801 - val_loss: 0.0368 - val_accuracy: 0.9903 - 2s/epoch - 5ms/step\n",
            "Epoch 4/10\n",
            "422/422 - 2s - loss: 0.0476 - accuracy: 0.9851 - val_loss: 0.0347 - val_accuracy: 0.9898 - 2s/epoch - 4ms/step\n",
            "Epoch 5/10\n",
            "422/422 - 2s - loss: 0.0424 - accuracy: 0.9861 - val_loss: 0.0307 - val_accuracy: 0.9925 - 2s/epoch - 4ms/step\n",
            "Epoch 6/10\n",
            "422/422 - 2s - loss: 0.0358 - accuracy: 0.9884 - val_loss: 0.0260 - val_accuracy: 0.9933 - 2s/epoch - 4ms/step\n",
            "Epoch 7/10\n",
            "422/422 - 2s - loss: 0.0319 - accuracy: 0.9894 - val_loss: 0.0300 - val_accuracy: 0.9918 - 2s/epoch - 4ms/step\n",
            "Epoch 8/10\n",
            "422/422 - 2s - loss: 0.0291 - accuracy: 0.9910 - val_loss: 0.0266 - val_accuracy: 0.9928 - 2s/epoch - 4ms/step\n",
            "Epoch 9/10\n",
            "422/422 - 2s - loss: 0.0260 - accuracy: 0.9916 - val_loss: 0.0295 - val_accuracy: 0.9923 - 2s/epoch - 4ms/step\n",
            "Epoch 10/10\n",
            "422/422 - 2s - loss: 0.0249 - accuracy: 0.9916 - val_loss: 0.0255 - val_accuracy: 0.9932 - 2s/epoch - 4ms/step\n"
          ]
        }
      ]
    },
    {
      "cell_type": "code",
      "source": [
        "def define_model():  \n",
        "  model = tf.keras.Sequential()\n",
        "  model.add(tf.keras.layers.Conv2D(filters=32, kernel_size=3, activation='relu', input_shape = (28,28,1)))\n",
        "  model.add(tf.keras.layers.MaxPool2D((2,2)))\n",
        "\n",
        "  model.add(tf.keras.layers.Conv2D(filters= 48,kernel_size=3, activation = 'relu'))\n",
        "  model.add(tf.keras.layers.MaxPool2D((2,2)))\n",
        "\n",
        "  model.add(tf.keras.layers.Dropout(0.5))\n",
        "\n",
        "  model.add(tf.keras.layers.Flatten())\n",
        "\n",
        "  model.add(tf.keras.layers.Dense(units = 500,activation= 'relu'))\n",
        "\n",
        "  model.add(tf.keras.layers.Dense(units = 10,activation= 'softmax'))\n",
        "  model.compile(optimizer='adam',loss='sparse_categorical_crossentropy',metrics=['accuracy'])\n",
        "\n",
        "  return model"
      ],
      "metadata": {
        "id": "y4MrFwzwDJG4"
      },
      "execution_count": 11,
      "outputs": []
    },
    {
      "cell_type": "code",
      "source": [
        "from sklearn.model_selection import KFold\n",
        "\n",
        "\n",
        "def eval_data(x , y , n_k=5):\n",
        "  score =[]\n",
        "  hist = []\n",
        "\n",
        "  kf = KFold(n_splits=n_k,shuffle = True, random_state=1)\n",
        "\n",
        "  for train_kx, test_kx in kf.split(x):\n",
        "    model = define_model()\n",
        "    trainX, trainY, testX, testY = x[train_kx],y[train_kx],x[test_kx],y[test_kx]\n",
        "    history = model.fit(trainX, trainY, epochs=10, batch_size=32, validation_data=(testX, testY), verbose=2)\n",
        "\t\t# evaluate model\n",
        "    acc = model.evaluate(testX, testY, verbose=2)\n",
        "    acc = np.array(acc)\n",
        "    print('Accuracy is %.3f' % (acc.max() * 100))\n",
        "\t\t\n",
        "    score.append(acc)\n",
        "    hist.append(history)"
      ],
      "metadata": {
        "id": "O0o_Ek3aDM_2"
      },
      "execution_count": 12,
      "outputs": []
    },
    {
      "cell_type": "code",
      "source": [
        "eval_data(trainX,trainy,5)"
      ],
      "metadata": {
        "colab": {
          "base_uri": "https://localhost:8080/"
        },
        "id": "dKpT9sScDPAo",
        "outputId": "a64caee2-9469-4d1c-c21a-58b3d79bf799"
      },
      "execution_count": null,
      "outputs": [
        {
          "output_type": "stream",
          "name": "stdout",
          "text": [
            "Epoch 1/10\n",
            "1500/1500 - 6s - loss: 0.1831 - accuracy: 0.9416 - val_loss: 0.0652 - val_accuracy: 0.9805 - 6s/epoch - 4ms/step\n",
            "Epoch 2/10\n",
            "1500/1500 - 4s - loss: 0.0721 - accuracy: 0.9769 - val_loss: 0.0464 - val_accuracy: 0.9862 - 4s/epoch - 3ms/step\n",
            "Epoch 3/10\n",
            "1500/1500 - 4s - loss: 0.0548 - accuracy: 0.9824 - val_loss: 0.0435 - val_accuracy: 0.9864 - 4s/epoch - 3ms/step\n",
            "Epoch 4/10\n",
            "1500/1500 - 4s - loss: 0.0457 - accuracy: 0.9853 - val_loss: 0.0404 - val_accuracy: 0.9868 - 4s/epoch - 3ms/step\n",
            "Epoch 5/10\n",
            "1500/1500 - 5s - loss: 0.0400 - accuracy: 0.9870 - val_loss: 0.0346 - val_accuracy: 0.9892 - 5s/epoch - 3ms/step\n",
            "Epoch 6/10\n",
            "1500/1500 - 5s - loss: 0.0348 - accuracy: 0.9882 - val_loss: 0.0381 - val_accuracy: 0.9892 - 5s/epoch - 3ms/step\n",
            "Epoch 7/10\n",
            "1500/1500 - 5s - loss: 0.0282 - accuracy: 0.9909 - val_loss: 0.0357 - val_accuracy: 0.9902 - 5s/epoch - 3ms/step\n",
            "Epoch 8/10\n",
            "1500/1500 - 5s - loss: 0.0277 - accuracy: 0.9905 - val_loss: 0.0353 - val_accuracy: 0.9898 - 5s/epoch - 3ms/step\n",
            "Epoch 9/10\n",
            "1500/1500 - 5s - loss: 0.0253 - accuracy: 0.9919 - val_loss: 0.0301 - val_accuracy: 0.9923 - 5s/epoch - 3ms/step\n",
            "Epoch 10/10\n",
            "1500/1500 - 4s - loss: 0.0242 - accuracy: 0.9920 - val_loss: 0.0304 - val_accuracy: 0.9908 - 4s/epoch - 3ms/step\n",
            "375/375 - 1s - loss: 0.0304 - accuracy: 0.9908 - 684ms/epoch - 2ms/step\n",
            "Accuracy is 99.075\n",
            "Epoch 1/10\n",
            "1500/1500 - 5s - loss: 0.1805 - accuracy: 0.9444 - val_loss: 0.0613 - val_accuracy: 0.9821 - 5s/epoch - 3ms/step\n",
            "Epoch 2/10\n",
            "1500/1500 - 5s - loss: 0.0717 - accuracy: 0.9783 - val_loss: 0.0408 - val_accuracy: 0.9869 - 5s/epoch - 3ms/step\n",
            "Epoch 3/10\n",
            "1500/1500 - 5s - loss: 0.0553 - accuracy: 0.9823 - val_loss: 0.0370 - val_accuracy: 0.9884 - 5s/epoch - 3ms/step\n",
            "Epoch 4/10\n",
            "1500/1500 - 4s - loss: 0.0435 - accuracy: 0.9860 - val_loss: 0.0342 - val_accuracy: 0.9905 - 4s/epoch - 3ms/step\n",
            "Epoch 5/10\n",
            "1500/1500 - 5s - loss: 0.0373 - accuracy: 0.9877 - val_loss: 0.0287 - val_accuracy: 0.9915 - 5s/epoch - 3ms/step\n",
            "Epoch 6/10\n",
            "1500/1500 - 4s - loss: 0.0334 - accuracy: 0.9891 - val_loss: 0.0287 - val_accuracy: 0.9920 - 4s/epoch - 3ms/step\n",
            "Epoch 7/10\n",
            "1500/1500 - 5s - loss: 0.0289 - accuracy: 0.9904 - val_loss: 0.0274 - val_accuracy: 0.9915 - 5s/epoch - 3ms/step\n",
            "Epoch 8/10\n",
            "1500/1500 - 4s - loss: 0.0265 - accuracy: 0.9909 - val_loss: 0.0367 - val_accuracy: 0.9903 - 4s/epoch - 3ms/step\n",
            "Epoch 9/10\n",
            "1500/1500 - 5s - loss: 0.0243 - accuracy: 0.9920 - val_loss: 0.0299 - val_accuracy: 0.9921 - 5s/epoch - 3ms/step\n",
            "Epoch 10/10\n",
            "1500/1500 - 5s - loss: 0.0239 - accuracy: 0.9921 - val_loss: 0.0280 - val_accuracy: 0.9919 - 5s/epoch - 3ms/step\n",
            "375/375 - 1s - loss: 0.0280 - accuracy: 0.9919 - 713ms/epoch - 2ms/step\n",
            "Accuracy is 99.192\n",
            "Epoch 1/10\n",
            "1500/1500 - 5s - loss: 0.1800 - accuracy: 0.9429 - val_loss: 0.0610 - val_accuracy: 0.9814 - 5s/epoch - 3ms/step\n",
            "Epoch 2/10\n",
            "1500/1500 - 5s - loss: 0.0733 - accuracy: 0.9775 - val_loss: 0.0458 - val_accuracy: 0.9851 - 5s/epoch - 3ms/step\n",
            "Epoch 3/10\n",
            "1500/1500 - 4s - loss: 0.0547 - accuracy: 0.9824 - val_loss: 0.0413 - val_accuracy: 0.9871 - 4s/epoch - 3ms/step\n",
            "Epoch 4/10\n",
            "1500/1500 - 5s - loss: 0.0440 - accuracy: 0.9859 - val_loss: 0.0346 - val_accuracy: 0.9894 - 5s/epoch - 3ms/step\n",
            "Epoch 5/10\n",
            "1500/1500 - 4s - loss: 0.0353 - accuracy: 0.9891 - val_loss: 0.0342 - val_accuracy: 0.9895 - 4s/epoch - 3ms/step\n",
            "Epoch 6/10\n",
            "1500/1500 - 5s - loss: 0.0333 - accuracy: 0.9890 - val_loss: 0.0313 - val_accuracy: 0.9914 - 5s/epoch - 3ms/step\n",
            "Epoch 7/10\n",
            "1500/1500 - 4s - loss: 0.0297 - accuracy: 0.9901 - val_loss: 0.0334 - val_accuracy: 0.9905 - 4s/epoch - 3ms/step\n",
            "Epoch 8/10\n",
            "1500/1500 - 4s - loss: 0.0255 - accuracy: 0.9916 - val_loss: 0.0290 - val_accuracy: 0.9921 - 4s/epoch - 3ms/step\n",
            "Epoch 9/10\n",
            "1500/1500 - 4s - loss: 0.0243 - accuracy: 0.9917 - val_loss: 0.0306 - val_accuracy: 0.9919 - 4s/epoch - 3ms/step\n",
            "Epoch 10/10\n",
            "1500/1500 - 5s - loss: 0.0227 - accuracy: 0.9927 - val_loss: 0.0288 - val_accuracy: 0.9928 - 5s/epoch - 3ms/step\n",
            "375/375 - 1s - loss: 0.0288 - accuracy: 0.9928 - 687ms/epoch - 2ms/step\n",
            "Accuracy is 99.283\n",
            "Epoch 1/10\n",
            "1500/1500 - 5s - loss: 0.1833 - accuracy: 0.9434 - val_loss: 0.0463 - val_accuracy: 0.9851 - 5s/epoch - 3ms/step\n",
            "Epoch 2/10\n",
            "1500/1500 - 5s - loss: 0.0726 - accuracy: 0.9775 - val_loss: 0.0374 - val_accuracy: 0.9868 - 5s/epoch - 3ms/step\n",
            "Epoch 3/10\n",
            "1500/1500 - 4s - loss: 0.0549 - accuracy: 0.9826 - val_loss: 0.0284 - val_accuracy: 0.9915 - 4s/epoch - 3ms/step\n",
            "Epoch 4/10\n",
            "1500/1500 - 5s - loss: 0.0433 - accuracy: 0.9858 - val_loss: 0.0262 - val_accuracy: 0.9922 - 5s/epoch - 3ms/step\n",
            "Epoch 5/10\n"
          ]
        }
      ]
    },
    {
      "cell_type": "code",
      "source": [
        "loss , accuracy = model.evaluate(testX, testy)"
      ],
      "metadata": {
        "id": "gMl7PNgHcz8n"
      },
      "execution_count": null,
      "outputs": []
    },
    {
      "cell_type": "code",
      "source": [
        "nums=[]\n",
        "for i in range(0,5):\n",
        "  x = np.random.randint(0,len(testX))\n",
        "  nums.append(x)\n",
        "\n",
        "for num in nums:  \n",
        "  plt.imshow(testX[num])\n",
        "  pred= model.predict(testX)\n",
        "  plt.show()\n",
        "  print(\"Model Prediction is:\",np.argmax(pred[num]))\n",
        "  print()\n",
        "  print('#'*40)"
      ],
      "metadata": {
        "id": "XX1w1Z3Ic0nr"
      },
      "execution_count": null,
      "outputs": []
    },
    {
      "cell_type": "code",
      "source": [
        ""
      ],
      "metadata": {
        "id": "Qo_YUkSPBync"
      },
      "execution_count": null,
      "outputs": []
    }
  ]
}